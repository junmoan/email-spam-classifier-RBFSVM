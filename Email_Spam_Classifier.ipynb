{
  "nbformat": 4,
  "nbformat_minor": 0,
  "metadata": {
    "colab": {
      "name": "Email_Spam_Classifier.ipynb",
      "provenance": [],
      "collapsed_sections": []
    },
    "kernelspec": {
      "name": "python3",
      "display_name": "Python 3"
    }
  },
  "cells": [
    {
      "cell_type": "code",
      "metadata": {
        "id": "VCLFYNlNd7Km",
        "colab_type": "code",
        "colab": {}
      },
      "source": [
        "# Import the machine learning libraries.\n",
        "import pandas as pd\n",
        "import numpy as np\n",
        "from sklearn.svm import SVC\n",
        "from sklearn.model_selection import train_test_split\n",
        "from sklearn import metrics\n",
        "from sklearn.metrics import confusion_matrix\n",
        "from mlxtend.plotting import plot_confusion_matrix\n",
        "from sklearn.model_selection import KFold\n",
        "from sklearn.model_selection import cross_val_score\n",
        "from sklearn.metrics import plot_roc_curve\n",
        "from sklearn.model_selection import GridSearchCV\n",
        "import matplotlib.pyplot as plt\n",
        "import seaborn as sns\n",
        "from sklearn.preprocessing import scale"
      ],
      "execution_count": 0,
      "outputs": []
    },
    {
      "cell_type": "code",
      "metadata": {
        "id": "s8IS-WM9eIX0",
        "colab_type": "code",
        "colab": {
          "base_uri": "https://localhost:8080/",
          "height": 51
        },
        "outputId": "b1c39019-0c78-4e20-cdbc-09d4d2ea280c"
      },
      "source": [
        "# Load the email sapm dataset.\n",
        "# The dataset can be downloaded here: https://archive.ics.uci.edu/ml/datasets/spambase.\n",
        "# Rename spambase.data to spambase.text or spambase.csv.\n",
        "%%time\n",
        "email_rec = pd.read_csv(\"./drive/My Drive/ML_Code/Email Spam Classifier/spambase.txt\",  sep = ',', header= None )"
      ],
      "execution_count": 69,
      "outputs": [
        {
          "output_type": "stream",
          "text": [
            "CPU times: user 24.7 ms, sys: 3.94 ms, total: 28.7 ms\n",
            "Wall time: 33 ms\n"
          ],
          "name": "stdout"
        }
      ]
    },
    {
      "cell_type": "code",
      "metadata": {
        "id": "CIFynDHUf1Q3",
        "colab_type": "code",
        "colab": {
          "base_uri": "https://localhost:8080/",
          "height": 153
        },
        "outputId": "d06d163f-20ea-4802-f56c-7567724c295a"
      },
      "source": [
        "# Rename the columns.\n",
        "# renaming the columns\n",
        "email_rec.columns  = [\"word_freq_make\", \"word_freq_address\", \"word_freq_all\", \"word_freq_3d\", \n",
        "                      \"word_freq_our\", \"word_freq_over\", \"word_freq_remove\", \"word_freq_internet\", \n",
        "                      \"word_freq_order\", \"word_freq_mail\", \"word_freq_receive\", \"word_freq_will\", \n",
        "                      \"word_freq_people\", \"word_freq_report\", \"word_freq_addresses\", \"word_freq_free\", \n",
        "                      \"word_freq_business\", \"word_freq_email\", \"word_freq_you\", \"word_freq_credit\", \n",
        "                      \"word_freq_your\", \"word_freq_font\", \"word_freq_000\", \"word_freq_money\", \"word_freq_hp\", \n",
        "                      \"word_freq_hpl\", \"word_freq_george\", \"word_freq_650\", \"word_freq_lab\", \"word_freq_labs\", \n",
        "                      \"word_freq_telnet\", \"word_freq_857\", \"word_freq_data\", \"word_freq_415\", \"word_freq_85\", \n",
        "                      \"word_freq_technology\", \"word_freq_1999\", \"word_freq_parts\", \"word_freq_pm\", \"word_freq_direct\",\n",
        "                      \"word_freq_cs\", \"word_freq_meeting\", \"word_freq_original\", \"word_freq_project\", \"word_freq_re\", \n",
        "                      \"word_freq_edu\", \"word_freq_table\", \"word_freq_conference\", \"char_freq_;\", \"char_freq_(\", \n",
        "                      \"char_freq_[\", \"char_freq_!\", \"char_freq_$\", \"char_freq_hash\", \"capital_run_length_average\", \n",
        "                      \"capital_run_length_longest\", \"capital_run_length_total\", \"spam\"]\n",
        "print(email_rec.head())"
      ],
      "execution_count": 70,
      "outputs": [
        {
          "output_type": "stream",
          "text": [
            "   word_freq_make  word_freq_address  ...  capital_run_length_total  spam\n",
            "0            0.00               0.64  ...                       278     1\n",
            "1            0.21               0.28  ...                      1028     1\n",
            "2            0.06               0.00  ...                      2259     1\n",
            "3            0.00               0.00  ...                       191     1\n",
            "4            0.00               0.00  ...                       191     1\n",
            "\n",
            "[5 rows x 58 columns]\n"
          ],
          "name": "stdout"
        }
      ]
    },
    {
      "cell_type": "code",
      "metadata": {
        "id": "attJG8K7g0x5",
        "colab_type": "code",
        "colab": {}
      },
      "source": [
        "# Split a dataset into X and y.\n",
        "X = email_rec.drop(\"spam\", axis = 1)\n",
        "y = email_rec.spam.values.astype(int)"
      ],
      "execution_count": 0,
      "outputs": []
    },
    {
      "cell_type": "code",
      "metadata": {
        "id": "VHScQApHhdJK",
        "colab_type": "code",
        "colab": {}
      },
      "source": [
        "# Scale the features. Standardize a dataset.\n",
        "X_scaled = scale(X)\n",
        "\n",
        "# Split the dataset into the training set and test subsets.\n",
        "X_train, X_test, y_train, y_test = train_test_split(X_scaled, y, test_size = 0.3, random_state = 0)"
      ],
      "execution_count": 0,
      "outputs": []
    },
    {
      "cell_type": "code",
      "metadata": {
        "id": "mNIiHR7biKBo",
        "colab_type": "code",
        "colab": {}
      },
      "source": [
        "# Radial Basis Function (RBF) kernel SVM.\n",
        "\n",
        "model = SVC(C = 1, kernel='rbf')\n",
        "model.fit(X_train, y_train)\n",
        "y_pred = model.predict(X_test)"
      ],
      "execution_count": 0,
      "outputs": []
    },
    {
      "cell_type": "code",
      "metadata": {
        "id": "xoQP9Qqmi-SI",
        "colab_type": "code",
        "colab": {
          "base_uri": "https://localhost:8080/",
          "height": 85
        },
        "outputId": "05e6c83b-6f41-4685-d7fe-c351eea5cfc8"
      },
      "source": [
        "# Print Confusion Matrix.\n",
        "%%time\n",
        "cm = confusion_matrix(y_test, y_pred)\n",
        "print(cm)"
      ],
      "execution_count": 74,
      "outputs": [
        {
          "output_type": "stream",
          "text": [
            "[[787  35]\n",
            " [ 72 487]]\n",
            "CPU times: user 3.34 ms, sys: 0 ns, total: 3.34 ms\n",
            "Wall time: 3.64 ms\n"
          ],
          "name": "stdout"
        }
      ]
    },
    {
      "cell_type": "code",
      "metadata": {
        "id": "dHMjlZwikIMU",
        "colab_type": "code",
        "colab": {
          "base_uri": "https://localhost:8080/",
          "height": 313
        },
        "outputId": "f05a02b4-3be7-4faa-f13c-9fc75e32be9f"
      },
      "source": [
        "# Plot the confusion matrix.\n",
        "%%time\n",
        "fig, ax = plot_confusion_matrix(conf_mat=cm,\n",
        "                                show_absolute=True,\n",
        "                                show_normed=True,\n",
        "                                colorbar=True)\n",
        "plt.show()"
      ],
      "execution_count": 76,
      "outputs": [
        {
          "output_type": "display_data",
          "data": {
            "image/png": "[encoded data removed]",
            "text/plain": [
              "<Figure size 432x288 with 2 Axes>"
            ]
          },
          "metadata": {
            "tags": [],
            "needs_background": "light"
          }
        },
        {
          "output_type": "stream",
          "text": [
            "CPU times: user 169 ms, sys: 6.9 ms, total: 176 ms\n",
            "Wall time: 177 ms\n"
          ],
          "name": "stdout"
        }
      ]
    },
    {
      "cell_type": "code",
      "metadata": {
        "id": "UFM9zolyluyQ",
        "colab_type": "code",
        "colab": {
          "base_uri": "https://localhost:8080/",
          "height": 68
        },
        "outputId": "7cf621b2-fd16-408d-b4bf-c4f410573753"
      },
      "source": [
        "# Print accuracy, precision, and recall.\n",
        "print(\"Accuracy:\", metrics.accuracy_score(y_test, y_pred))\n",
        "print(\"Precision:\", metrics.precision_score(y_test, y_pred))\n",
        "print(\"Recall/Sensitivity:\", metrics.recall_score(y_test, y_pred))"
      ],
      "execution_count": 99,
      "outputs": [
        {
          "output_type": "stream",
          "text": [
            "Accuracy: 0.9362780593772628\n",
            "Precision: 0.9418386491557224\n",
            "Recall/Sensitivity: 0.8980322003577818\n"
          ],
          "name": "stdout"
        }
      ]
    },
    {
      "cell_type": "code",
      "metadata": {
        "id": "5XSBFk7Gmqt7",
        "colab_type": "code",
        "colab": {
          "base_uri": "https://localhost:8080/",
          "height": 308
        },
        "outputId": "f5ef8121-dc16-4cf5-9c01-13c8d8947c9d"
      },
      "source": [
        "# Plot the ROC curve.\n",
        "clf_disp = plot_roc_curve(model, X_test, y_test)\n",
        "clf_disp.figure_.suptitle(\"ROC Curve\")\n",
        "\n",
        "plt.show()"
      ],
      "execution_count": 79,
      "outputs": [
        {
          "output_type": "display_data",
          "data": {
            "image/png": "[encoded data removed]",
            "text/plain": [
              "<Figure size 432x288 with 1 Axes>"
            ]
          },
          "metadata": {
            "tags": [],
            "needs_background": "light"
          }
        }
      ]
    },
    {
      "cell_type": "code",
      "metadata": {
        "id": "KQnpl1IemdnS",
        "colab_type": "code",
        "colab": {
          "base_uri": "https://localhost:8080/",
          "height": 102
        },
        "outputId": "1fa1aae6-7ddf-4fbf-ef15-2e65d6bbba7a"
      },
      "source": [
        "# Use the Grid Search to Find Optimal hyperparameters.\n",
        "# Create a KFold object with 10 splits\n",
        "%%time\n",
        "folds = KFold(n_splits = 10, shuffle = True, random_state = 0)\n",
        "\n",
        "# Specify range of hyperparameters.\n",
        "hyper_params = [ {'gamma': [1e-2, 1e-3, 1e-4],\n",
        "                     'C': [1, 10, 100, 1000]}]\n",
        "\n",
        "# Radial Basis Function (RBF) kernel SVM.\n",
        "model = SVC(kernel=\"rbf\")\n",
        "\n",
        "# Set up GridSearchCV() function with the range of hyperparameters.\n",
        "model_cv = GridSearchCV(estimator = model, \n",
        "                        param_grid = hyper_params, \n",
        "                        scoring= 'accuracy', \n",
        "                        cv = folds, \n",
        "                        verbose = 1,\n",
        "                        return_train_score=True)\n",
        "model_cv.fit(X_train, y_train)"
      ],
      "execution_count": 81,
      "outputs": [
        {
          "output_type": "stream",
          "text": [
            "Fitting 10 folds for each of 12 candidates, totalling 120 fits\n"
          ],
          "name": "stdout"
        },
        {
          "output_type": "stream",
          "text": [
            "[Parallel(n_jobs=1)]: Using backend SequentialBackend with 1 concurrent workers.\n",
            "[Parallel(n_jobs=1)]: Done 120 out of 120 | elapsed:  1.4min finished\n"
          ],
          "name": "stderr"
        },
        {
          "output_type": "stream",
          "text": [
            "CPU times: user 1min 22s, sys: 35.2 ms, total: 1min 22s\n",
            "Wall time: 1min 22s\n"
          ],
          "name": "stdout"
        }
      ]
    },
    {
      "cell_type": "code",
      "metadata": {
        "id": "guyW3RzfoWaH",
        "colab_type": "code",
        "colab": {
          "base_uri": "https://localhost:8080/",
          "height": 900
        },
        "outputId": "8240ace0-7870-436b-ffd9-6de2c7360de2"
      },
      "source": [
        "# Cross-Validation results.\n",
        "cv_results = pd.DataFrame(model_cv.cv_results_)\n",
        "cv_results"
      ],
      "execution_count": 82,
      "outputs": [
        {
          "output_type": "execute_result",
          "data": {
            "text/html": [
              "<div>\n",
              "<style scoped>\n",
              "    .dataframe tbody tr th:only-of-type {\n",
              "        vertical-align: middle;\n",
              "    }\n",
              "\n",
              "    .dataframe tbody tr th {\n",
              "        vertical-align: top;\n",
              "    }\n",
              "\n",
              "    .dataframe thead th {\n",
              "        text-align: right;\n",
              "    }\n",
              "</style>\n",
              "<table border=\"1\" class=\"dataframe\">\n",
              "  <thead>\n",
              "    <tr style=\"text-align: right;\">\n",
              "      <th></th>\n",
              "      <th>mean_fit_time</th>\n",
              "      <th>std_fit_time</th>\n",
              "      <th>mean_score_time</th>\n",
              "      <th>std_score_time</th>\n",
              "      <th>param_C</th>\n",
              "      <th>param_gamma</th>\n",
              "      <th>params</th>\n",
              "      <th>split0_test_score</th>\n",
              "      <th>split1_test_score</th>\n",
              "      <th>split2_test_score</th>\n",
              "      <th>split3_test_score</th>\n",
              "      <th>split4_test_score</th>\n",
              "      <th>split5_test_score</th>\n",
              "      <th>split6_test_score</th>\n",
              "      <th>split7_test_score</th>\n",
              "      <th>split8_test_score</th>\n",
              "      <th>split9_test_score</th>\n",
              "      <th>mean_test_score</th>\n",
              "      <th>std_test_score</th>\n",
              "      <th>rank_test_score</th>\n",
              "      <th>split0_train_score</th>\n",
              "      <th>split1_train_score</th>\n",
              "      <th>split2_train_score</th>\n",
              "      <th>split3_train_score</th>\n",
              "      <th>split4_train_score</th>\n",
              "      <th>split5_train_score</th>\n",
              "      <th>split6_train_score</th>\n",
              "      <th>split7_train_score</th>\n",
              "      <th>split8_train_score</th>\n",
              "      <th>split9_train_score</th>\n",
              "      <th>mean_train_score</th>\n",
              "      <th>std_train_score</th>\n",
              "    </tr>\n",
              "  </thead>\n",
              "  <tbody>\n",
              "    <tr>\n",
              "      <th>0</th>\n",
              "      <td>0.329140</td>\n",
              "      <td>0.004628</td>\n",
              "      <td>0.029405</td>\n",
              "      <td>0.001417</td>\n",
              "      <td>1</td>\n",
              "      <td>0.01</td>\n",
              "      <td>{'C': 1, 'gamma': 0.01}</td>\n",
              "      <td>0.950311</td>\n",
              "      <td>0.931677</td>\n",
              "      <td>0.931677</td>\n",
              "      <td>0.903727</td>\n",
              "      <td>0.919255</td>\n",
              "      <td>0.959627</td>\n",
              "      <td>0.928571</td>\n",
              "      <td>0.937888</td>\n",
              "      <td>0.947205</td>\n",
              "      <td>0.919255</td>\n",
              "      <td>0.932919</td>\n",
              "      <td>0.015787</td>\n",
              "      <td>5</td>\n",
              "      <td>0.940994</td>\n",
              "      <td>0.944099</td>\n",
              "      <td>0.943754</td>\n",
              "      <td>0.946515</td>\n",
              "      <td>0.946515</td>\n",
              "      <td>0.943409</td>\n",
              "      <td>0.945135</td>\n",
              "      <td>0.944099</td>\n",
              "      <td>0.943409</td>\n",
              "      <td>0.947205</td>\n",
              "      <td>0.944513</td>\n",
              "      <td>0.001772</td>\n",
              "    </tr>\n",
              "    <tr>\n",
              "      <th>1</th>\n",
              "      <td>0.441691</td>\n",
              "      <td>0.005401</td>\n",
              "      <td>0.041689</td>\n",
              "      <td>0.000638</td>\n",
              "      <td>1</td>\n",
              "      <td>0.001</td>\n",
              "      <td>{'C': 1, 'gamma': 0.001}</td>\n",
              "      <td>0.925466</td>\n",
              "      <td>0.903727</td>\n",
              "      <td>0.885093</td>\n",
              "      <td>0.885093</td>\n",
              "      <td>0.903727</td>\n",
              "      <td>0.916149</td>\n",
              "      <td>0.903727</td>\n",
              "      <td>0.900621</td>\n",
              "      <td>0.900621</td>\n",
              "      <td>0.869565</td>\n",
              "      <td>0.899379</td>\n",
              "      <td>0.015227</td>\n",
              "      <td>10</td>\n",
              "      <td>0.902346</td>\n",
              "      <td>0.905107</td>\n",
              "      <td>0.904762</td>\n",
              "      <td>0.906142</td>\n",
              "      <td>0.905107</td>\n",
              "      <td>0.902692</td>\n",
              "      <td>0.905452</td>\n",
              "      <td>0.902001</td>\n",
              "      <td>0.906832</td>\n",
              "      <td>0.912698</td>\n",
              "      <td>0.905314</td>\n",
              "      <td>0.002908</td>\n",
              "    </tr>\n",
              "    <tr>\n",
              "      <th>2</th>\n",
              "      <td>0.755141</td>\n",
              "      <td>0.006417</td>\n",
              "      <td>0.071265</td>\n",
              "      <td>0.001897</td>\n",
              "      <td>1</td>\n",
              "      <td>0.0001</td>\n",
              "      <td>{'C': 1, 'gamma': 0.0001}</td>\n",
              "      <td>0.847826</td>\n",
              "      <td>0.807453</td>\n",
              "      <td>0.763975</td>\n",
              "      <td>0.779503</td>\n",
              "      <td>0.804348</td>\n",
              "      <td>0.826087</td>\n",
              "      <td>0.813665</td>\n",
              "      <td>0.804348</td>\n",
              "      <td>0.807453</td>\n",
              "      <td>0.770186</td>\n",
              "      <td>0.802484</td>\n",
              "      <td>0.024184</td>\n",
              "      <td>12</td>\n",
              "      <td>0.799172</td>\n",
              "      <td>0.801932</td>\n",
              "      <td>0.806418</td>\n",
              "      <td>0.806418</td>\n",
              "      <td>0.805383</td>\n",
              "      <td>0.802277</td>\n",
              "      <td>0.799517</td>\n",
              "      <td>0.802277</td>\n",
              "      <td>0.806073</td>\n",
              "      <td>0.807108</td>\n",
              "      <td>0.803658</td>\n",
              "      <td>0.002829</td>\n",
              "    </tr>\n",
              "    <tr>\n",
              "      <th>3</th>\n",
              "      <td>0.275429</td>\n",
              "      <td>0.005117</td>\n",
              "      <td>0.022756</td>\n",
              "      <td>0.001415</td>\n",
              "      <td>10</td>\n",
              "      <td>0.01</td>\n",
              "      <td>{'C': 10, 'gamma': 0.01}</td>\n",
              "      <td>0.962733</td>\n",
              "      <td>0.934783</td>\n",
              "      <td>0.940994</td>\n",
              "      <td>0.916149</td>\n",
              "      <td>0.925466</td>\n",
              "      <td>0.956522</td>\n",
              "      <td>0.937888</td>\n",
              "      <td>0.944099</td>\n",
              "      <td>0.947205</td>\n",
              "      <td>0.909938</td>\n",
              "      <td>0.937578</td>\n",
              "      <td>0.015863</td>\n",
              "      <td>2</td>\n",
              "      <td>0.960663</td>\n",
              "      <td>0.961698</td>\n",
              "      <td>0.962043</td>\n",
              "      <td>0.964458</td>\n",
              "      <td>0.962733</td>\n",
              "      <td>0.960317</td>\n",
              "      <td>0.962043</td>\n",
              "      <td>0.962733</td>\n",
              "      <td>0.962388</td>\n",
              "      <td>0.964113</td>\n",
              "      <td>0.962319</td>\n",
              "      <td>0.001242</td>\n",
              "    </tr>\n",
              "    <tr>\n",
              "      <th>4</th>\n",
              "      <td>0.308654</td>\n",
              "      <td>0.006651</td>\n",
              "      <td>0.026997</td>\n",
              "      <td>0.000760</td>\n",
              "      <td>10</td>\n",
              "      <td>0.001</td>\n",
              "      <td>{'C': 10, 'gamma': 0.001}</td>\n",
              "      <td>0.950311</td>\n",
              "      <td>0.928571</td>\n",
              "      <td>0.928571</td>\n",
              "      <td>0.903727</td>\n",
              "      <td>0.922360</td>\n",
              "      <td>0.950311</td>\n",
              "      <td>0.934783</td>\n",
              "      <td>0.937888</td>\n",
              "      <td>0.931677</td>\n",
              "      <td>0.916149</td>\n",
              "      <td>0.930435</td>\n",
              "      <td>0.013622</td>\n",
              "      <td>7</td>\n",
              "      <td>0.937888</td>\n",
              "      <td>0.939959</td>\n",
              "      <td>0.939959</td>\n",
              "      <td>0.940649</td>\n",
              "      <td>0.940304</td>\n",
              "      <td>0.935818</td>\n",
              "      <td>0.938233</td>\n",
              "      <td>0.937198</td>\n",
              "      <td>0.937543</td>\n",
              "      <td>0.939959</td>\n",
              "      <td>0.938751</td>\n",
              "      <td>0.001545</td>\n",
              "    </tr>\n",
              "    <tr>\n",
              "      <th>5</th>\n",
              "      <td>0.444172</td>\n",
              "      <td>0.002830</td>\n",
              "      <td>0.041920</td>\n",
              "      <td>0.000853</td>\n",
              "      <td>10</td>\n",
              "      <td>0.0001</td>\n",
              "      <td>{'C': 10, 'gamma': 0.0001}</td>\n",
              "      <td>0.922360</td>\n",
              "      <td>0.897516</td>\n",
              "      <td>0.881988</td>\n",
              "      <td>0.888199</td>\n",
              "      <td>0.903727</td>\n",
              "      <td>0.909938</td>\n",
              "      <td>0.900621</td>\n",
              "      <td>0.906832</td>\n",
              "      <td>0.897516</td>\n",
              "      <td>0.869565</td>\n",
              "      <td>0.897826</td>\n",
              "      <td>0.014194</td>\n",
              "      <td>11</td>\n",
              "      <td>0.899931</td>\n",
              "      <td>0.900621</td>\n",
              "      <td>0.902001</td>\n",
              "      <td>0.903382</td>\n",
              "      <td>0.903037</td>\n",
              "      <td>0.900621</td>\n",
              "      <td>0.900966</td>\n",
              "      <td>0.899586</td>\n",
              "      <td>0.903382</td>\n",
              "      <td>0.908558</td>\n",
              "      <td>0.902208</td>\n",
              "      <td>0.002499</td>\n",
              "    </tr>\n",
              "    <tr>\n",
              "      <th>6</th>\n",
              "      <td>0.319057</td>\n",
              "      <td>0.007482</td>\n",
              "      <td>0.019538</td>\n",
              "      <td>0.000499</td>\n",
              "      <td>100</td>\n",
              "      <td>0.01</td>\n",
              "      <td>{'C': 100, 'gamma': 0.01}</td>\n",
              "      <td>0.962733</td>\n",
              "      <td>0.925466</td>\n",
              "      <td>0.944099</td>\n",
              "      <td>0.916149</td>\n",
              "      <td>0.919255</td>\n",
              "      <td>0.944099</td>\n",
              "      <td>0.919255</td>\n",
              "      <td>0.940994</td>\n",
              "      <td>0.934783</td>\n",
              "      <td>0.919255</td>\n",
              "      <td>0.932609</td>\n",
              "      <td>0.014503</td>\n",
              "      <td>6</td>\n",
              "      <td>0.980676</td>\n",
              "      <td>0.982402</td>\n",
              "      <td>0.979641</td>\n",
              "      <td>0.981366</td>\n",
              "      <td>0.982057</td>\n",
              "      <td>0.982402</td>\n",
              "      <td>0.978606</td>\n",
              "      <td>0.979986</td>\n",
              "      <td>0.980676</td>\n",
              "      <td>0.979986</td>\n",
              "      <td>0.980780</td>\n",
              "      <td>0.001206</td>\n",
              "    </tr>\n",
              "    <tr>\n",
              "      <th>7</th>\n",
              "      <td>0.276790</td>\n",
              "      <td>0.006347</td>\n",
              "      <td>0.020162</td>\n",
              "      <td>0.000391</td>\n",
              "      <td>100</td>\n",
              "      <td>0.001</td>\n",
              "      <td>{'C': 100, 'gamma': 0.001}</td>\n",
              "      <td>0.959627</td>\n",
              "      <td>0.931677</td>\n",
              "      <td>0.934783</td>\n",
              "      <td>0.913043</td>\n",
              "      <td>0.925466</td>\n",
              "      <td>0.953416</td>\n",
              "      <td>0.944099</td>\n",
              "      <td>0.940994</td>\n",
              "      <td>0.937888</td>\n",
              "      <td>0.928571</td>\n",
              "      <td>0.936957</td>\n",
              "      <td>0.012884</td>\n",
              "      <td>3</td>\n",
              "      <td>0.949965</td>\n",
              "      <td>0.948930</td>\n",
              "      <td>0.950656</td>\n",
              "      <td>0.953071</td>\n",
              "      <td>0.949275</td>\n",
              "      <td>0.950311</td>\n",
              "      <td>0.947895</td>\n",
              "      <td>0.951001</td>\n",
              "      <td>0.951346</td>\n",
              "      <td>0.951001</td>\n",
              "      <td>0.950345</td>\n",
              "      <td>0.001367</td>\n",
              "    </tr>\n",
              "    <tr>\n",
              "      <th>8</th>\n",
              "      <td>0.323017</td>\n",
              "      <td>0.007099</td>\n",
              "      <td>0.027298</td>\n",
              "      <td>0.000597</td>\n",
              "      <td>100</td>\n",
              "      <td>0.0001</td>\n",
              "      <td>{'C': 100, 'gamma': 0.0001}</td>\n",
              "      <td>0.953416</td>\n",
              "      <td>0.919255</td>\n",
              "      <td>0.919255</td>\n",
              "      <td>0.909938</td>\n",
              "      <td>0.916149</td>\n",
              "      <td>0.944099</td>\n",
              "      <td>0.931677</td>\n",
              "      <td>0.940994</td>\n",
              "      <td>0.928571</td>\n",
              "      <td>0.909938</td>\n",
              "      <td>0.927329</td>\n",
              "      <td>0.014245</td>\n",
              "      <td>8</td>\n",
              "      <td>0.929607</td>\n",
              "      <td>0.937543</td>\n",
              "      <td>0.933747</td>\n",
              "      <td>0.933057</td>\n",
              "      <td>0.935128</td>\n",
              "      <td>0.928571</td>\n",
              "      <td>0.930642</td>\n",
              "      <td>0.930642</td>\n",
              "      <td>0.932712</td>\n",
              "      <td>0.932022</td>\n",
              "      <td>0.932367</td>\n",
              "      <td>0.002550</td>\n",
              "    </tr>\n",
              "    <tr>\n",
              "      <th>9</th>\n",
              "      <td>0.466917</td>\n",
              "      <td>0.022124</td>\n",
              "      <td>0.018199</td>\n",
              "      <td>0.001121</td>\n",
              "      <td>1000</td>\n",
              "      <td>0.01</td>\n",
              "      <td>{'C': 1000, 'gamma': 0.01}</td>\n",
              "      <td>0.947205</td>\n",
              "      <td>0.909938</td>\n",
              "      <td>0.934783</td>\n",
              "      <td>0.897516</td>\n",
              "      <td>0.909938</td>\n",
              "      <td>0.947205</td>\n",
              "      <td>0.928571</td>\n",
              "      <td>0.931677</td>\n",
              "      <td>0.940994</td>\n",
              "      <td>0.894410</td>\n",
              "      <td>0.924224</td>\n",
              "      <td>0.018798</td>\n",
              "      <td>9</td>\n",
              "      <td>0.993099</td>\n",
              "      <td>0.994134</td>\n",
              "      <td>0.992063</td>\n",
              "      <td>0.994824</td>\n",
              "      <td>0.993099</td>\n",
              "      <td>0.993444</td>\n",
              "      <td>0.993099</td>\n",
              "      <td>0.992754</td>\n",
              "      <td>0.992754</td>\n",
              "      <td>0.993444</td>\n",
              "      <td>0.993271</td>\n",
              "      <td>0.000728</td>\n",
              "    </tr>\n",
              "    <tr>\n",
              "      <th>10</th>\n",
              "      <td>0.419892</td>\n",
              "      <td>0.012955</td>\n",
              "      <td>0.017719</td>\n",
              "      <td>0.000481</td>\n",
              "      <td>1000</td>\n",
              "      <td>0.001</td>\n",
              "      <td>{'C': 1000, 'gamma': 0.001}</td>\n",
              "      <td>0.956522</td>\n",
              "      <td>0.934783</td>\n",
              "      <td>0.940994</td>\n",
              "      <td>0.913043</td>\n",
              "      <td>0.947205</td>\n",
              "      <td>0.959627</td>\n",
              "      <td>0.944099</td>\n",
              "      <td>0.937888</td>\n",
              "      <td>0.947205</td>\n",
              "      <td>0.919255</td>\n",
              "      <td>0.940062</td>\n",
              "      <td>0.014030</td>\n",
              "      <td>1</td>\n",
              "      <td>0.961008</td>\n",
              "      <td>0.962388</td>\n",
              "      <td>0.963423</td>\n",
              "      <td>0.966184</td>\n",
              "      <td>0.964113</td>\n",
              "      <td>0.961698</td>\n",
              "      <td>0.964113</td>\n",
              "      <td>0.963423</td>\n",
              "      <td>0.963768</td>\n",
              "      <td>0.965839</td>\n",
              "      <td>0.963596</td>\n",
              "      <td>0.001553</td>\n",
              "    </tr>\n",
              "    <tr>\n",
              "      <th>11</th>\n",
              "      <td>0.311624</td>\n",
              "      <td>0.009768</td>\n",
              "      <td>0.020304</td>\n",
              "      <td>0.000399</td>\n",
              "      <td>1000</td>\n",
              "      <td>0.0001</td>\n",
              "      <td>{'C': 1000, 'gamma': 0.0001}</td>\n",
              "      <td>0.959627</td>\n",
              "      <td>0.925466</td>\n",
              "      <td>0.931677</td>\n",
              "      <td>0.906832</td>\n",
              "      <td>0.922360</td>\n",
              "      <td>0.953416</td>\n",
              "      <td>0.940994</td>\n",
              "      <td>0.940994</td>\n",
              "      <td>0.931677</td>\n",
              "      <td>0.928571</td>\n",
              "      <td>0.934161</td>\n",
              "      <td>0.014553</td>\n",
              "      <td>4</td>\n",
              "      <td>0.942374</td>\n",
              "      <td>0.943409</td>\n",
              "      <td>0.945825</td>\n",
              "      <td>0.947550</td>\n",
              "      <td>0.943409</td>\n",
              "      <td>0.944444</td>\n",
              "      <td>0.943409</td>\n",
              "      <td>0.944099</td>\n",
              "      <td>0.947895</td>\n",
              "      <td>0.945135</td>\n",
              "      <td>0.944755</td>\n",
              "      <td>0.001749</td>\n",
              "    </tr>\n",
              "  </tbody>\n",
              "</table>\n",
              "</div>"
            ],
            "text/plain": [
              "    mean_fit_time  std_fit_time  ...  mean_train_score  std_train_score\n",
              "0        0.329140      0.004628  ...          0.944513         0.001772\n",
              "1        0.441691      0.005401  ...          0.905314         0.002908\n",
              "2        0.755141      0.006417  ...          0.803658         0.002829\n",
              "3        0.275429      0.005117  ...          0.962319         0.001242\n",
              "4        0.308654      0.006651  ...          0.938751         0.001545\n",
              "5        0.444172      0.002830  ...          0.902208         0.002499\n",
              "6        0.319057      0.007482  ...          0.980780         0.001206\n",
              "7        0.276790      0.006347  ...          0.950345         0.001367\n",
              "8        0.323017      0.007099  ...          0.932367         0.002550\n",
              "9        0.466917      0.022124  ...          0.993271         0.000728\n",
              "10       0.419892      0.012955  ...          0.963596         0.001553\n",
              "11       0.311624      0.009768  ...          0.944755         0.001749\n",
              "\n",
              "[12 rows x 32 columns]"
            ]
          },
          "metadata": {
            "tags": []
          },
          "execution_count": 82
        }
      ]
    },
    {
      "cell_type": "code",
      "metadata": {
        "id": "51L-DYHaowDa",
        "colab_type": "code",
        "colab": {
          "base_uri": "https://localhost:8080/",
          "height": 34
        },
        "outputId": "d4bdf72c-625a-464c-d919-b6784acfd241"
      },
      "source": [
        "# Print the optimal accuracy score and hyperparameters.\n",
        "best_score = model_cv.best_score_\n",
        "best_hyperparams = model_cv.best_params_\n",
        "\n",
        "print(\"The best test score is {0} corresponding to hyperparameters {1}\".format(best_score, best_hyperparams))"
      ],
      "execution_count": 83,
      "outputs": [
        {
          "output_type": "stream",
          "text": [
            "The best test score is 0.9400621118012422 corresponding to hyperparameters {'C': 1000, 'gamma': 0.001}\n"
          ],
          "name": "stdout"
        }
      ]
    },
    {
      "cell_type": "code",
      "metadata": {
        "id": "UzuTndLio6Eu",
        "colab_type": "code",
        "colab": {
          "base_uri": "https://localhost:8080/",
          "height": 68
        },
        "outputId": "b73c7d61-b143-414a-d323-9fa1a4f9f64e"
      },
      "source": [
        "# Radial Basis Function (RBF) kernel SVM with the optical hyperparameters.\n",
        "model = SVC(C=1000, gamma=0.001, kernel=\"rbf\")\n",
        "\n",
        "model.fit(X_train, y_train)\n",
        "y_pred = model.predict(X_test)\n",
        "\n",
        "# Print accuracy, precision, and recall.\n",
        "print(\"Accuracy:\", metrics.accuracy_score(y_test, y_pred))\n",
        "print(\"Precision:\", metrics.precision_score(y_test, y_pred))\n",
        "print(\"Recall/Sensitivity:\", metrics.recall_score(y_test, y_pred))"
      ],
      "execution_count": 98,
      "outputs": [
        {
          "output_type": "stream",
          "text": [
            "Accuracy: 0.9362780593772628\n",
            "Precision: 0.9418386491557224\n",
            "Recall/Sensitivity: 0.8980322003577818\n"
          ],
          "name": "stdout"
        }
      ]
    },
    {
      "cell_type": "code",
      "metadata": {
        "id": "ii39rUs6qAwN",
        "colab_type": "code",
        "colab": {
          "base_uri": "https://localhost:8080/",
          "height": 85
        },
        "outputId": "4599a07b-32db-4bae-dee0-fcaf1720b646"
      },
      "source": [
        "# Print Confusion Matrix.\n",
        "%%time\n",
        "cm = confusion_matrix(y_test, y_pred)\n",
        "print(cm)"
      ],
      "execution_count": 89,
      "outputs": [
        {
          "output_type": "stream",
          "text": [
            "[[791  31]\n",
            " [ 57 502]]\n",
            "CPU times: user 2.73 ms, sys: 993 µs, total: 3.72 ms\n",
            "Wall time: 7.14 ms\n"
          ],
          "name": "stdout"
        }
      ]
    },
    {
      "cell_type": "code",
      "metadata": {
        "id": "Ij6JHfrdpro5",
        "colab_type": "code",
        "colab": {
          "base_uri": "https://localhost:8080/",
          "height": 313
        },
        "outputId": "2954e7c1-16eb-4316-a7d4-a417068fdcb7"
      },
      "source": [
        "# Plot the confusion matrix.\n",
        "%%time\n",
        "fig, ax = plot_confusion_matrix(conf_mat=cm,\n",
        "                                show_absolute=True,\n",
        "                                show_normed=True,\n",
        "                                colorbar=True)\n",
        "plt.show()"
      ],
      "execution_count": 90,
      "outputs": [
        {
          "output_type": "display_data",
          "data": {
            "image/png": "[encoded data removed]",
            "text/plain": [
              "<Figure size 432x288 with 2 Axes>"
            ]
          },
          "metadata": {
            "tags": [],
            "needs_background": "light"
          }
        },
        {
          "output_type": "stream",
          "text": [
            "CPU times: user 157 ms, sys: 2.99 ms, total: 160 ms\n",
            "Wall time: 162 ms\n"
          ],
          "name": "stdout"
        }
      ]
    },
    {
      "cell_type": "code",
      "metadata": {
        "id": "VIlsSUY8pepA",
        "colab_type": "code",
        "colab": {
          "base_uri": "https://localhost:8080/",
          "height": 308
        },
        "outputId": "75b20b26-4f40-4353-88be-9ee59f60ed96"
      },
      "source": [
        "# Plot the ROC curve.\n",
        "clf_disp = plot_roc_curve(model, X_test, y_test)\n",
        "clf_disp.figure_.suptitle(\"ROC Curve\")\n",
        "\n",
        "plt.show()"
      ],
      "execution_count": 96,
      "outputs": [
        {
          "output_type": "display_data",
          "data": {
            "image/png": "[encoded data removed]",
            "text/plain": [
              "<Figure size 432x288 with 1 Axes>"
            ]
          },
          "metadata": {
            "tags": [],
            "needs_background": "light"
          }
        }
      ]
    },
    {
      "cell_type": "code",
      "metadata": {
        "id": "YYyfFyKFqt7C",
        "colab_type": "code",
        "colab": {}
      },
      "source": [
        ""
      ],
      "execution_count": 0,
      "outputs": []
    }
  ]
}